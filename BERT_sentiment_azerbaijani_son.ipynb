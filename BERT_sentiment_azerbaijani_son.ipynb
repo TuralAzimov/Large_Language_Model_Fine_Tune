{
  "cells": [
    {
      "cell_type": "code",
      "execution_count": null,
      "id": "aa6bf770",
      "metadata": {
        "id": "aa6bf770"
      },
      "outputs": [],
      "source": [
        "import tensorflow as tf\n",
        "import pandas as pd\n",
        "from transformers import BertTokenizer , TFBertForSequenceClassification\n",
        "import re\n",
        "import nltk"
      ]
    },
    {
      "cell_type": "code",
      "source": [
        "tpu = tf.distribute.cluster_resolver.TPUClusterResolver()\n",
        "tf.config.experimental_connect_to_cluster(tpu)\n",
        "tf.tpu.experimental.initialize_tpu_system(tpu)\n",
        "strategy = tf.distribute.TPUStrategy(tpu)"
      ],
      "metadata": {
        "id": "WQZ_9Vn8DhuN"
      },
      "id": "WQZ_9Vn8DhuN",
      "execution_count": null,
      "outputs": []
    },
    {
      "cell_type": "code",
      "execution_count": null,
      "id": "d49ab49d",
      "metadata": {
        "id": "d49ab49d"
      },
      "outputs": [],
      "source": [
        "df = pd.read_excel('Comments_all_bank.xlsx')"
      ]
    },
    {
      "cell_type": "code",
      "execution_count": null,
      "id": "d6b4b802",
      "metadata": {
        "id": "d6b4b802"
      },
      "outputs": [],
      "source": [
        "def handle_mistype(sentiment):\n",
        "    if not isinstance(sentiment, str):\n",
        "        return sentiment\n",
        "    pattern = r'(?i)\\b(neu(tral)?|pos(itive)?|neg(ative)?)\\w*\\b'\n",
        "    handled_sentiment = re.sub(pattern, lambda match: 'Neutral' if 'neu' in match.group(0).lower() else\n",
        "                          ('Positive' if 'pos' in match.group(0).lower() else\n",
        "                          ('Negative' if 'neg' in match.group(0).lower() else match.group(0))), sentiment)\n",
        "    return handled_sentiment\n",
        "\n",
        "df['Sentiment'] = df['Sentiment'].apply(handle_mistype)"
      ]
    },
    {
      "cell_type": "code",
      "execution_count": null,
      "id": "2bb6cd92",
      "metadata": {
        "id": "2bb6cd92"
      },
      "outputs": [],
      "source": [
        "sentiment_mapping = {'Negative': 0, 'Neutral': 1 , 'Positive': 2 }"
      ]
    },
    {
      "cell_type": "code",
      "execution_count": null,
      "id": "0385cba0",
      "metadata": {
        "id": "0385cba0"
      },
      "outputs": [],
      "source": [
        "df['Sentiment'] = df['Sentiment'].replace(sentiment_mapping)"
      ]
    },
    {
      "cell_type": "code",
      "execution_count": null,
      "id": "99b335fb",
      "metadata": {
        "id": "99b335fb"
      },
      "outputs": [],
      "source": [
        "df['Sentiment'] = df['Sentiment'].replace({value: None for value in df['Sentiment'].unique()\n",
        "                                           if value not in sentiment_mapping.values()})\n"
      ]
    },
    {
      "cell_type": "code",
      "execution_count": null,
      "id": "01716425",
      "metadata": {
        "id": "01716425"
      },
      "outputs": [],
      "source": [
        "df = df.dropna(subset = ['Comment','Sentiment'])"
      ]
    },
    {
      "cell_type": "code",
      "execution_count": null,
      "id": "e2ad026e",
      "metadata": {
        "id": "e2ad026e"
      },
      "outputs": [],
      "source": [
        "texts = df['Comment'].tolist()\n",
        "labels = df['Sentiment'].tolist()"
      ]
    },
    {
      "cell_type": "code",
      "execution_count": null,
      "id": "99a84834",
      "metadata": {
        "id": "99a84834"
      },
      "outputs": [],
      "source": [
        "def cleaned_text(text):\n",
        "    text = str(text)\n",
        "    #remove symbols and special characters\n",
        "    text = re.sub(r\"^a-zA-Z0-9ğöəışçüĞÖƏIŞÇÜ\\s\", \"\", text)\n",
        "    return text\n",
        "\n",
        "cleaned_texts = [cleaned_text(text) for text in texts]\n",
        "\n",
        "df['Comment'] = cleaned_texts\n",
        "texts = df['Comment'].tolist()"
      ]
    },
    {
      "cell_type": "code",
      "execution_count": null,
      "id": "9f43564d",
      "metadata": {
        "id": "9f43564d"
      },
      "outputs": [],
      "source": [
        "def cleaned_sentiment(label):\n",
        "    label = str(label)\n",
        "    label = re.sub(r\"^0-9\", \"\", label)\n",
        "    return label\n",
        "cleaned_labels = [int(cleaned_sentiment(label)) for label in labels]\n",
        "\n",
        "df['Sentiment'] = cleaned_labels\n",
        "labels = df['Sentiment'].tolist()"
      ]
    },
    {
      "cell_type": "code",
      "execution_count": null,
      "id": "7243c09a",
      "metadata": {
        "id": "7243c09a",
        "outputId": "e6894d6f-35af-42f0-fa1d-dc4b1e42eb27",
        "colab": {
          "base_uri": "https://localhost:8080/"
        }
      },
      "outputs": [
        {
          "output_type": "execute_result",
          "data": {
            "text/plain": [
              "Comment      0\n",
              "Sentiment    0\n",
              "dtype: int64"
            ]
          },
          "metadata": {},
          "execution_count": 13
        }
      ],
      "source": [
        "df.isnull().sum()"
      ]
    },
    {
      "cell_type": "code",
      "execution_count": null,
      "id": "be41f4db",
      "metadata": {
        "id": "be41f4db"
      },
      "outputs": [],
      "source": [
        "labels = df['Sentiment'].tolist()"
      ]
    },
    {
      "cell_type": "code",
      "execution_count": null,
      "id": "2e29b501",
      "metadata": {
        "id": "2e29b501",
        "outputId": "a3a726f6-5280-48ec-bc1a-5389434ebf16",
        "colab": {
          "base_uri": "https://localhost:8080/",
          "height": 206
        }
      },
      "outputs": [
        {
          "output_type": "execute_result",
          "data": {
            "text/plain": [
              "                                             Comment  Sentiment\n",
              "0                      Men 439 rubl depozitim olubdu          1\n",
              "1                                       Ele sey olur          1\n",
              "2                                 Hele 100 dende cox          1\n",
              "3                                     100 rubl elave          1\n",
              "4  Rubl  demek istirsizsiz  rubl 0.28 gepik deyer...          1"
            ],
            "text/html": [
              "\n",
              "\n",
              "  <div id=\"df-26050724-d914-438a-86ec-84f4d0b743f8\">\n",
              "    <div class=\"colab-df-container\">\n",
              "      <div>\n",
              "<style scoped>\n",
              "    .dataframe tbody tr th:only-of-type {\n",
              "        vertical-align: middle;\n",
              "    }\n",
              "\n",
              "    .dataframe tbody tr th {\n",
              "        vertical-align: top;\n",
              "    }\n",
              "\n",
              "    .dataframe thead th {\n",
              "        text-align: right;\n",
              "    }\n",
              "</style>\n",
              "<table border=\"1\" class=\"dataframe\">\n",
              "  <thead>\n",
              "    <tr style=\"text-align: right;\">\n",
              "      <th></th>\n",
              "      <th>Comment</th>\n",
              "      <th>Sentiment</th>\n",
              "    </tr>\n",
              "  </thead>\n",
              "  <tbody>\n",
              "    <tr>\n",
              "      <th>0</th>\n",
              "      <td>Men 439 rubl depozitim olubdu</td>\n",
              "      <td>1</td>\n",
              "    </tr>\n",
              "    <tr>\n",
              "      <th>1</th>\n",
              "      <td>Ele sey olur</td>\n",
              "      <td>1</td>\n",
              "    </tr>\n",
              "    <tr>\n",
              "      <th>2</th>\n",
              "      <td>Hele 100 dende cox</td>\n",
              "      <td>1</td>\n",
              "    </tr>\n",
              "    <tr>\n",
              "      <th>3</th>\n",
              "      <td>100 rubl elave</td>\n",
              "      <td>1</td>\n",
              "    </tr>\n",
              "    <tr>\n",
              "      <th>4</th>\n",
              "      <td>Rubl  demek istirsizsiz  rubl 0.28 gepik deyer...</td>\n",
              "      <td>1</td>\n",
              "    </tr>\n",
              "  </tbody>\n",
              "</table>\n",
              "</div>\n",
              "      <button class=\"colab-df-convert\" onclick=\"convertToInteractive('df-26050724-d914-438a-86ec-84f4d0b743f8')\"\n",
              "              title=\"Convert this dataframe to an interactive table.\"\n",
              "              style=\"display:none;\">\n",
              "\n",
              "  <svg xmlns=\"http://www.w3.org/2000/svg\" height=\"24px\"viewBox=\"0 0 24 24\"\n",
              "       width=\"24px\">\n",
              "    <path d=\"M0 0h24v24H0V0z\" fill=\"none\"/>\n",
              "    <path d=\"M18.56 5.44l.94 2.06.94-2.06 2.06-.94-2.06-.94-.94-2.06-.94 2.06-2.06.94zm-11 1L8.5 8.5l.94-2.06 2.06-.94-2.06-.94L8.5 2.5l-.94 2.06-2.06.94zm10 10l.94 2.06.94-2.06 2.06-.94-2.06-.94-.94-2.06-.94 2.06-2.06.94z\"/><path d=\"M17.41 7.96l-1.37-1.37c-.4-.4-.92-.59-1.43-.59-.52 0-1.04.2-1.43.59L10.3 9.45l-7.72 7.72c-.78.78-.78 2.05 0 2.83L4 21.41c.39.39.9.59 1.41.59.51 0 1.02-.2 1.41-.59l7.78-7.78 2.81-2.81c.8-.78.8-2.07 0-2.86zM5.41 20L4 18.59l7.72-7.72 1.47 1.35L5.41 20z\"/>\n",
              "  </svg>\n",
              "      </button>\n",
              "\n",
              "\n",
              "\n",
              "    <div id=\"df-dd05032e-c4d6-47e2-bef7-b1c3b0086293\">\n",
              "      <button class=\"colab-df-quickchart\" onclick=\"quickchart('df-dd05032e-c4d6-47e2-bef7-b1c3b0086293')\"\n",
              "              title=\"Suggest charts.\"\n",
              "              style=\"display:none;\">\n",
              "\n",
              "<svg xmlns=\"http://www.w3.org/2000/svg\" height=\"24px\"viewBox=\"0 0 24 24\"\n",
              "     width=\"24px\">\n",
              "    <g>\n",
              "        <path d=\"M19 3H5c-1.1 0-2 .9-2 2v14c0 1.1.9 2 2 2h14c1.1 0 2-.9 2-2V5c0-1.1-.9-2-2-2zM9 17H7v-7h2v7zm4 0h-2V7h2v10zm4 0h-2v-4h2v4z\"/>\n",
              "    </g>\n",
              "</svg>\n",
              "      </button>\n",
              "    </div>\n",
              "\n",
              "<style>\n",
              "  .colab-df-quickchart {\n",
              "    background-color: #E8F0FE;\n",
              "    border: none;\n",
              "    border-radius: 50%;\n",
              "    cursor: pointer;\n",
              "    display: none;\n",
              "    fill: #1967D2;\n",
              "    height: 32px;\n",
              "    padding: 0 0 0 0;\n",
              "    width: 32px;\n",
              "  }\n",
              "\n",
              "  .colab-df-quickchart:hover {\n",
              "    background-color: #E2EBFA;\n",
              "    box-shadow: 0px 1px 2px rgba(60, 64, 67, 0.3), 0px 1px 3px 1px rgba(60, 64, 67, 0.15);\n",
              "    fill: #174EA6;\n",
              "  }\n",
              "\n",
              "  [theme=dark] .colab-df-quickchart {\n",
              "    background-color: #3B4455;\n",
              "    fill: #D2E3FC;\n",
              "  }\n",
              "\n",
              "  [theme=dark] .colab-df-quickchart:hover {\n",
              "    background-color: #434B5C;\n",
              "    box-shadow: 0px 1px 3px 1px rgba(0, 0, 0, 0.15);\n",
              "    filter: drop-shadow(0px 1px 2px rgba(0, 0, 0, 0.3));\n",
              "    fill: #FFFFFF;\n",
              "  }\n",
              "</style>\n",
              "\n",
              "    <script>\n",
              "      async function quickchart(key) {\n",
              "        const containerElement = document.querySelector('#' + key);\n",
              "        const charts = await google.colab.kernel.invokeFunction(\n",
              "            'suggestCharts', [key], {});\n",
              "      }\n",
              "    </script>\n",
              "\n",
              "      <script>\n",
              "\n",
              "function displayQuickchartButton(domScope) {\n",
              "  let quickchartButtonEl =\n",
              "    domScope.querySelector('#df-dd05032e-c4d6-47e2-bef7-b1c3b0086293 button.colab-df-quickchart');\n",
              "  quickchartButtonEl.style.display =\n",
              "    google.colab.kernel.accessAllowed ? 'block' : 'none';\n",
              "}\n",
              "\n",
              "        displayQuickchartButton(document);\n",
              "      </script>\n",
              "      <style>\n",
              "    .colab-df-container {\n",
              "      display:flex;\n",
              "      flex-wrap:wrap;\n",
              "      gap: 12px;\n",
              "    }\n",
              "\n",
              "    .colab-df-convert {\n",
              "      background-color: #E8F0FE;\n",
              "      border: none;\n",
              "      border-radius: 50%;\n",
              "      cursor: pointer;\n",
              "      display: none;\n",
              "      fill: #1967D2;\n",
              "      height: 32px;\n",
              "      padding: 0 0 0 0;\n",
              "      width: 32px;\n",
              "    }\n",
              "\n",
              "    .colab-df-convert:hover {\n",
              "      background-color: #E2EBFA;\n",
              "      box-shadow: 0px 1px 2px rgba(60, 64, 67, 0.3), 0px 1px 3px 1px rgba(60, 64, 67, 0.15);\n",
              "      fill: #174EA6;\n",
              "    }\n",
              "\n",
              "    [theme=dark] .colab-df-convert {\n",
              "      background-color: #3B4455;\n",
              "      fill: #D2E3FC;\n",
              "    }\n",
              "\n",
              "    [theme=dark] .colab-df-convert:hover {\n",
              "      background-color: #434B5C;\n",
              "      box-shadow: 0px 1px 3px 1px rgba(0, 0, 0, 0.15);\n",
              "      filter: drop-shadow(0px 1px 2px rgba(0, 0, 0, 0.3));\n",
              "      fill: #FFFFFF;\n",
              "    }\n",
              "  </style>\n",
              "\n",
              "      <script>\n",
              "        const buttonEl =\n",
              "          document.querySelector('#df-26050724-d914-438a-86ec-84f4d0b743f8 button.colab-df-convert');\n",
              "        buttonEl.style.display =\n",
              "          google.colab.kernel.accessAllowed ? 'block' : 'none';\n",
              "\n",
              "        async function convertToInteractive(key) {\n",
              "          const element = document.querySelector('#df-26050724-d914-438a-86ec-84f4d0b743f8');\n",
              "          const dataTable =\n",
              "            await google.colab.kernel.invokeFunction('convertToInteractive',\n",
              "                                                     [key], {});\n",
              "          if (!dataTable) return;\n",
              "\n",
              "          const docLinkHtml = 'Like what you see? Visit the ' +\n",
              "            '<a target=\"_blank\" href=https://colab.research.google.com/notebooks/data_table.ipynb>data table notebook</a>'\n",
              "            + ' to learn more about interactive tables.';\n",
              "          element.innerHTML = '';\n",
              "          dataTable['output_type'] = 'display_data';\n",
              "          await google.colab.output.renderOutput(dataTable, element);\n",
              "          const docLink = document.createElement('div');\n",
              "          docLink.innerHTML = docLinkHtml;\n",
              "          element.appendChild(docLink);\n",
              "        }\n",
              "      </script>\n",
              "    </div>\n",
              "  </div>\n"
            ]
          },
          "metadata": {},
          "execution_count": 15
        }
      ],
      "source": [
        "df.head()"
      ]
    },
    {
      "cell_type": "code",
      "execution_count": null,
      "id": "67def456",
      "metadata": {
        "id": "67def456"
      },
      "outputs": [],
      "source": [
        "\n",
        "tokenizer = BertTokenizer.from_pretrained(\"bert-base-multilingual-cased\")"
      ]
    },
    {
      "cell_type": "code",
      "execution_count": null,
      "id": "2535c763",
      "metadata": {
        "id": "2535c763"
      },
      "outputs": [],
      "source": [
        "inputs = tokenizer(texts,padding=True , truncation = True , return_tensors = \"tf\")"
      ]
    },
    {
      "cell_type": "code",
      "execution_count": null,
      "id": "0782e457",
      "metadata": {
        "id": "0782e457"
      },
      "outputs": [],
      "source": [
        "input_ids = inputs['input_ids']\n",
        "attention_mask = inputs['attention_mask']"
      ]
    },
    {
      "cell_type": "code",
      "execution_count": null,
      "id": "73829504",
      "metadata": {
        "id": "73829504",
        "outputId": "29afb4b4-485c-4983-a8de-6b6cf98152d2",
        "colab": {
          "base_uri": "https://localhost:8080/"
        }
      },
      "outputs": [
        {
          "output_type": "stream",
          "name": "stderr",
          "text": [
            "All PyTorch model weights were used when initializing TFBertForSequenceClassification.\n",
            "\n",
            "Some weights or buffers of the TF 2.0 model TFBertForSequenceClassification were not initialized from the PyTorch model and are newly initialized: ['classifier.weight', 'classifier.bias']\n",
            "You should probably TRAIN this model on a down-stream task to be able to use it for predictions and inference.\n"
          ]
        }
      ],
      "source": [
        "from tensorflow.keras.optimizers.legacy import Adam\n",
        "\n",
        "with strategy.scope():\n",
        "  model = TFBertForSequenceClassification.from_pretrained(\"bert-base-multilingual-cased\", num_labels = 3)\n",
        "  optimizer  = tf.keras.optimizers.legacy.Adam(learning_rate = 3e-5)\n",
        "  loss = tf.keras.losses.SparseCategoricalCrossentropy(from_logits=True)\n",
        "  metric = tf.keras.metrics.SparseCategoricalAccuracy('accuracy')\n",
        "  model.compile(optimizer = optimizer , loss = loss , metrics = [metric])"
      ]
    },
    {
      "cell_type": "code",
      "execution_count": null,
      "id": "093d2a36",
      "metadata": {
        "id": "093d2a36"
      },
      "outputs": [],
      "source": [
        "train_ratio , val_ratio , test_ratio = 0.8 , 0.1 , 0.1"
      ]
    },
    {
      "cell_type": "code",
      "execution_count": null,
      "id": "2439fd70",
      "metadata": {
        "id": "2439fd70"
      },
      "outputs": [],
      "source": [
        "num_samples = len(texts)\n",
        "num_train_samples = int(train_ratio * num_samples )\n",
        "num_val_samples = int(val_ratio* num_samples )"
      ]
    },
    {
      "cell_type": "code",
      "execution_count": null,
      "id": "1e611fea",
      "metadata": {
        "id": "1e611fea"
      },
      "outputs": [],
      "source": [
        "train_input_ids = input_ids[:num_train_samples]\n",
        "train_attention_mask = attention_mask[:num_train_samples]\n",
        "train_labels = labels[:num_train_samples]"
      ]
    },
    {
      "cell_type": "code",
      "execution_count": null,
      "id": "6b9a82ff",
      "metadata": {
        "id": "6b9a82ff"
      },
      "outputs": [],
      "source": [
        "val_input_ids = input_ids[num_train_samples: num_train_samples + num_val_samples]\n",
        "val_attention_mask = attention_mask[num_train_samples: num_train_samples + num_val_samples]\n",
        "val_labels = labels[num_train_samples: num_train_samples + num_val_samples]"
      ]
    },
    {
      "cell_type": "code",
      "execution_count": null,
      "id": "f4cecae1",
      "metadata": {
        "id": "f4cecae1"
      },
      "outputs": [],
      "source": [
        "test_input_ids = input_ids[num_train_samples + num_val_samples:]\n",
        "test_attention_mask = attention_mask[num_train_samples + num_val_samples:]\n",
        "test_labels = labels[num_train_samples + num_val_samples:]"
      ]
    },
    {
      "cell_type": "code",
      "execution_count": null,
      "id": "77ec1ca4",
      "metadata": {
        "id": "77ec1ca4"
      },
      "outputs": [],
      "source": [
        "train_labels = tf.constant(train_labels, dtype=tf.int32)\n",
        "val_labels = tf.constant(val_labels, dtype=tf.int32)\n",
        "test_labels = tf.constant(test_labels, dtype=tf.int32)"
      ]
    },
    {
      "cell_type": "code",
      "source": [
        "early_stopping_callback = tf.keras.callbacks.EarlyStopping(\n",
        "    monitor='val_accuracy',\n",
        "    patience=10,\n",
        "    restore_best_weights = True\n",
        ")"
      ],
      "metadata": {
        "id": "IHUYzvdNaj_-"
      },
      "id": "IHUYzvdNaj_-",
      "execution_count": null,
      "outputs": []
    },
    {
      "cell_type": "code",
      "execution_count": null,
      "id": "6f384b92",
      "metadata": {
        "id": "6f384b92"
      },
      "outputs": [],
      "source": [
        "batch_size = 64"
      ]
    },
    {
      "cell_type": "code",
      "source": [
        "history = model.fit(\n",
        "    [train_input_ids, train_attention_mask],\n",
        "    train_labels,\n",
        "    validation_data=([val_input_ids, val_attention_mask], val_labels),\n",
        "    epochs=100,\n",
        "    batch_size=batch_size,\n",
        "    callbacks=[early_stopping_callback]\n",
        ")"
      ],
      "metadata": {
        "colab": {
          "base_uri": "https://localhost:8080/"
        },
        "id": "LpjFnWbga1r7",
        "outputId": "16b1c950-6bf3-486c-ad79-5fb4bd32a0df"
      },
      "id": "LpjFnWbga1r7",
      "execution_count": null,
      "outputs": [
        {
          "output_type": "stream",
          "name": "stdout",
          "text": [
            "Epoch 1/100\n",
            "179/179 [==============================] - 117s 364ms/step - loss: 0.4257 - accuracy: 0.8305 - val_loss: 0.4451 - val_accuracy: 0.8706\n",
            "Epoch 2/100\n",
            "179/179 [==============================] - 53s 297ms/step - loss: 0.2856 - accuracy: 0.8753 - val_loss: 0.4675 - val_accuracy: 0.8650\n",
            "Epoch 3/100\n",
            "179/179 [==============================] - 53s 296ms/step - loss: 0.2304 - accuracy: 0.9053 - val_loss: 0.4747 - val_accuracy: 0.8671\n",
            "Epoch 4/100\n",
            "179/179 [==============================] - 55s 309ms/step - loss: 0.1766 - accuracy: 0.9276 - val_loss: 0.5190 - val_accuracy: 0.8818\n",
            "Epoch 5/100\n",
            "179/179 [==============================] - 53s 299ms/step - loss: 0.1433 - accuracy: 0.9469 - val_loss: 0.5722 - val_accuracy: 0.8685\n",
            "Epoch 6/100\n",
            "179/179 [==============================] - 53s 299ms/step - loss: 0.1118 - accuracy: 0.9581 - val_loss: 0.5950 - val_accuracy: 0.8531\n",
            "Epoch 7/100\n",
            "179/179 [==============================] - 56s 315ms/step - loss: 0.0910 - accuracy: 0.9663 - val_loss: 0.6320 - val_accuracy: 0.8832\n",
            "Epoch 8/100\n",
            "179/179 [==============================] - 53s 295ms/step - loss: 0.0729 - accuracy: 0.9727 - val_loss: 0.6126 - val_accuracy: 0.8545\n",
            "Epoch 9/100\n",
            "179/179 [==============================] - 53s 295ms/step - loss: 0.0636 - accuracy: 0.9765 - val_loss: 0.6728 - val_accuracy: 0.8538\n",
            "Epoch 10/100\n",
            "179/179 [==============================] - 53s 294ms/step - loss: 0.0572 - accuracy: 0.9777 - val_loss: 0.6776 - val_accuracy: 0.8643\n",
            "Epoch 11/100\n",
            "179/179 [==============================] - 53s 297ms/step - loss: 0.0503 - accuracy: 0.9808 - val_loss: 0.6278 - val_accuracy: 0.8671\n",
            "Epoch 12/100\n",
            "179/179 [==============================] - 53s 295ms/step - loss: 0.0423 - accuracy: 0.9846 - val_loss: 0.6752 - val_accuracy: 0.8622\n",
            "Epoch 13/100\n",
            "179/179 [==============================] - 53s 296ms/step - loss: 0.0435 - accuracy: 0.9834 - val_loss: 0.7062 - val_accuracy: 0.8804\n",
            "Epoch 14/100\n",
            "179/179 [==============================] - 53s 294ms/step - loss: 0.0408 - accuracy: 0.9839 - val_loss: 0.6819 - val_accuracy: 0.8636\n",
            "Epoch 15/100\n",
            "179/179 [==============================] - 53s 294ms/step - loss: 0.0342 - accuracy: 0.9870 - val_loss: 0.7309 - val_accuracy: 0.8587\n",
            "Epoch 16/100\n",
            "179/179 [==============================] - 53s 294ms/step - loss: 0.0354 - accuracy: 0.9868 - val_loss: 0.7601 - val_accuracy: 0.8650\n",
            "Epoch 17/100\n",
            "179/179 [==============================] - 74s 414ms/step - loss: 0.0330 - accuracy: 0.9851 - val_loss: 0.7546 - val_accuracy: 0.8643\n"
          ]
        }
      ]
    },
    {
      "cell_type": "code",
      "execution_count": null,
      "id": "b2607f6f",
      "metadata": {
        "id": "b2607f6f",
        "colab": {
          "base_uri": "https://localhost:8080/"
        },
        "outputId": "005a7c32-eecd-4e53-f908-6244cd5e0005"
      },
      "outputs": [
        {
          "output_type": "stream",
          "name": "stdout",
          "text": [
            "23/23 [==============================] - 3s 93ms/step - loss: 0.3999 - accuracy: 0.9092\n",
            "Test Loss: 0.3999171853065491\n",
            "Test Accuracy: 0.9091544151306152\n"
          ]
        }
      ],
      "source": [
        "test_loss, test_accuracy = model.evaluate(\n",
        "    [test_input_ids, test_attention_mask],\n",
        "    test_labels,\n",
        "    batch_size=batch_size\n",
        ")\n",
        "\n",
        "print(\"Test Loss:\", test_loss)\n",
        "print(\"Test Accuracy:\", test_accuracy)"
      ]
    },
    {
      "cell_type": "code",
      "source": [],
      "metadata": {
        "id": "s-kGRUHcenxk"
      },
      "id": "s-kGRUHcenxk",
      "execution_count": null,
      "outputs": []
    }
  ],
  "metadata": {
    "kernelspec": {
      "display_name": "Python 3",
      "name": "python3"
    },
    "language_info": {
      "codemirror_mode": {
        "name": "ipython",
        "version": 3
      },
      "file_extension": ".py",
      "mimetype": "text/x-python",
      "name": "python",
      "nbconvert_exporter": "python",
      "pygments_lexer": "ipython3",
      "version": "3.9.13"
    },
    "colab": {
      "provenance": []
    },
    "accelerator": "TPU"
  },
  "nbformat": 4,
  "nbformat_minor": 5
}